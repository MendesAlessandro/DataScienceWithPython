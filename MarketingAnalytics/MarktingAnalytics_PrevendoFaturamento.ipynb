{
 "cells": [
  {
   "cell_type": "code",
   "execution_count": 41,
   "metadata": {},
   "outputs": [
    {
     "name": "stdout",
     "output_type": "stream",
     "text": [
      "The autoreload extension is already loaded. To reload it, use:\n",
      "  %reload_ext autoreload\n"
     ]
    }
   ],
   "source": [
    "%load_ext autoreload\n",
    "%autoreload 2\n",
    "\n",
    "import pandas as pd\n",
    "import seaborn as sns\n",
    "import matplotlib.pyplot as plt\n",
    "import numpy as np\n",
    "\n",
    "from IPython.display import display, HTML"
   ]
  },
  {
   "cell_type": "code",
   "execution_count": 42,
   "metadata": {},
   "outputs": [],
   "source": [
    "# global settings\n",
    "import warnings\n",
    "warnings.filterwarnings('ignore')\n",
    "\n",
    "np.random.seed(42)\n",
    "\n",
    "plt.figure(figsize=(10, 3))\n",
    "\n",
    "plt.style.use('seaborn-whitegrid')\n",
    "\n",
    "np.set_printoptions(precision=5, suppress=True)  # suppress scientific float notation\n",
    "\n",
    "%matplotlib inline\n",
    "\n"
   ]
  },
  {
   "cell_type": "markdown",
   "metadata": {},
   "source": [
    "# Problema\n",
    "\n",
    "Prevendo Faturamento da Empresa\n",
    "\n",
    "# Objetivos/Questões\n",
    "\n",
    "* Identificar resultado das campanhas de marketing\n",
    "* Quais clientes serão mais rentáveis? Faturamento > 500\n",
    "* Quais os principais segmentos de clientes?\n",
    "* Previsão de faturamento, de modo a definir estratégias de marketing\n",
    "* Qual é o Lifetime value da base de clientes da empresa?"
   ]
  },
  {
   "cell_type": "code",
   "execution_count": 43,
   "metadata": {},
   "outputs": [],
   "source": [
    "# carregando dados\n",
    "df_raw = pd.read_csv(\"compras.txt\", sep=\"\\t\",  names=['cliente_id', 'valor_compra', 'data_compra'] \n",
    "                    , parse_dates=['data_compra'])"
   ]
  },
  {
   "cell_type": "code",
   "execution_count": 44,
   "metadata": {},
   "outputs": [
    {
     "name": "stdout",
     "output_type": "stream",
     "text": [
      "<class 'pandas.core.frame.DataFrame'>\n",
      "RangeIndex: 51243 entries, 0 to 51242\n",
      "Data columns (total 3 columns):\n",
      "cliente_id      51243 non-null int64\n",
      "valor_compra    51243 non-null float64\n",
      "data_compra     51243 non-null datetime64[ns]\n",
      "dtypes: datetime64[ns](1), float64(1), int64(1)\n",
      "memory usage: 1.2 MB\n"
     ]
    }
   ],
   "source": [
    "df_raw.info()"
   ]
  },
  {
   "cell_type": "code",
   "execution_count": 45,
   "metadata": {},
   "outputs": [
    {
     "data": {
      "text/html": [
       "<div>\n",
       "<style scoped>\n",
       "    .dataframe tbody tr th:only-of-type {\n",
       "        vertical-align: middle;\n",
       "    }\n",
       "\n",
       "    .dataframe tbody tr th {\n",
       "        vertical-align: top;\n",
       "    }\n",
       "\n",
       "    .dataframe thead th {\n",
       "        text-align: right;\n",
       "    }\n",
       "</style>\n",
       "<table border=\"1\" class=\"dataframe\">\n",
       "  <thead>\n",
       "    <tr style=\"text-align: right;\">\n",
       "      <th></th>\n",
       "      <th>cliente_id</th>\n",
       "      <th>valor_compra</th>\n",
       "      <th>data_compra</th>\n",
       "    </tr>\n",
       "  </thead>\n",
       "  <tbody>\n",
       "    <tr>\n",
       "      <th>0</th>\n",
       "      <td>760</td>\n",
       "      <td>25.0</td>\n",
       "      <td>2009-11-06</td>\n",
       "    </tr>\n",
       "    <tr>\n",
       "      <th>1</th>\n",
       "      <td>860</td>\n",
       "      <td>50.0</td>\n",
       "      <td>2012-09-28</td>\n",
       "    </tr>\n",
       "    <tr>\n",
       "      <th>2</th>\n",
       "      <td>1200</td>\n",
       "      <td>100.0</td>\n",
       "      <td>2005-10-25</td>\n",
       "    </tr>\n",
       "    <tr>\n",
       "      <th>3</th>\n",
       "      <td>1420</td>\n",
       "      <td>50.0</td>\n",
       "      <td>2009-07-09</td>\n",
       "    </tr>\n",
       "    <tr>\n",
       "      <th>4</th>\n",
       "      <td>1940</td>\n",
       "      <td>70.0</td>\n",
       "      <td>2013-01-25</td>\n",
       "    </tr>\n",
       "  </tbody>\n",
       "</table>\n",
       "</div>"
      ],
      "text/plain": [
       "   cliente_id  valor_compra data_compra\n",
       "0         760          25.0  2009-11-06\n",
       "1         860          50.0  2012-09-28\n",
       "2        1200         100.0  2005-10-25\n",
       "3        1420          50.0  2009-07-09\n",
       "4        1940          70.0  2013-01-25"
      ]
     },
     "execution_count": 45,
     "metadata": {},
     "output_type": "execute_result"
    }
   ],
   "source": [
    "df_raw.head()"
   ]
  },
  {
   "cell_type": "code",
   "execution_count": 46,
   "metadata": {},
   "outputs": [],
   "source": [
    "# Feature engineering\n",
    "data_referencia = df_raw.data_compra.max() + pd.Timedelta(\"1 day\")\n",
    "\n",
    "df_raw[\"ano_compra\"] = df_raw.data_compra.dt.year# pd.DatetimeIndex(df_raw['data_compra']).year\n",
    "#df_raw[\"days_since\"] = (pd.Timestamp('2016-01-01') - df_raw[\"data_compra\"]).dt.days\n",
    "df_raw[\"days_since\"] = (data_referencia - df_raw[\"data_compra\"]).dt.days\n"
   ]
  },
  {
   "cell_type": "code",
   "execution_count": 47,
   "metadata": {},
   "outputs": [
    {
     "data": {
      "text/html": [
       "<div>\n",
       "<style scoped>\n",
       "    .dataframe tbody tr th:only-of-type {\n",
       "        vertical-align: middle;\n",
       "    }\n",
       "\n",
       "    .dataframe tbody tr th {\n",
       "        vertical-align: top;\n",
       "    }\n",
       "\n",
       "    .dataframe thead th {\n",
       "        text-align: right;\n",
       "    }\n",
       "</style>\n",
       "<table border=\"1\" class=\"dataframe\">\n",
       "  <thead>\n",
       "    <tr style=\"text-align: right;\">\n",
       "      <th></th>\n",
       "      <th>cliente_id</th>\n",
       "      <th>valor_compra</th>\n",
       "      <th>data_compra</th>\n",
       "      <th>ano_compra</th>\n",
       "      <th>days_since</th>\n",
       "    </tr>\n",
       "  </thead>\n",
       "  <tbody>\n",
       "    <tr>\n",
       "      <th>0</th>\n",
       "      <td>760</td>\n",
       "      <td>25.0</td>\n",
       "      <td>2009-11-06</td>\n",
       "      <td>2009</td>\n",
       "      <td>2247</td>\n",
       "    </tr>\n",
       "    <tr>\n",
       "      <th>1</th>\n",
       "      <td>860</td>\n",
       "      <td>50.0</td>\n",
       "      <td>2012-09-28</td>\n",
       "      <td>2012</td>\n",
       "      <td>1190</td>\n",
       "    </tr>\n",
       "    <tr>\n",
       "      <th>2</th>\n",
       "      <td>1200</td>\n",
       "      <td>100.0</td>\n",
       "      <td>2005-10-25</td>\n",
       "      <td>2005</td>\n",
       "      <td>3720</td>\n",
       "    </tr>\n",
       "    <tr>\n",
       "      <th>3</th>\n",
       "      <td>1420</td>\n",
       "      <td>50.0</td>\n",
       "      <td>2009-07-09</td>\n",
       "      <td>2009</td>\n",
       "      <td>2367</td>\n",
       "    </tr>\n",
       "    <tr>\n",
       "      <th>4</th>\n",
       "      <td>1940</td>\n",
       "      <td>70.0</td>\n",
       "      <td>2013-01-25</td>\n",
       "      <td>2013</td>\n",
       "      <td>1071</td>\n",
       "    </tr>\n",
       "  </tbody>\n",
       "</table>\n",
       "</div>"
      ],
      "text/plain": [
       "   cliente_id  valor_compra data_compra  ano_compra  days_since\n",
       "0         760          25.0  2009-11-06        2009        2247\n",
       "1         860          50.0  2012-09-28        2012        1190\n",
       "2        1200         100.0  2005-10-25        2005        3720\n",
       "3        1420          50.0  2009-07-09        2009        2367\n",
       "4        1940          70.0  2013-01-25        2013        1071"
      ]
     },
     "execution_count": 47,
     "metadata": {},
     "output_type": "execute_result"
    }
   ],
   "source": [
    "df_raw.head()"
   ]
  },
  {
   "cell_type": "markdown",
   "metadata": {},
   "source": [
    "# EAD - Exploração dos dados"
   ]
  },
  {
   "cell_type": "code",
   "execution_count": 48,
   "metadata": {},
   "outputs": [
    {
     "data": {
      "text/html": [
       "<div>\n",
       "<style scoped>\n",
       "    .dataframe tbody tr th:only-of-type {\n",
       "        vertical-align: middle;\n",
       "    }\n",
       "\n",
       "    .dataframe tbody tr th {\n",
       "        vertical-align: top;\n",
       "    }\n",
       "\n",
       "    .dataframe thead th {\n",
       "        text-align: right;\n",
       "    }\n",
       "</style>\n",
       "<table border=\"1\" class=\"dataframe\">\n",
       "  <thead>\n",
       "    <tr style=\"text-align: right;\">\n",
       "      <th></th>\n",
       "      <th>cliente_id</th>\n",
       "      <th>valor_compra</th>\n",
       "      <th>ano_compra</th>\n",
       "      <th>days_since</th>\n",
       "    </tr>\n",
       "  </thead>\n",
       "  <tbody>\n",
       "    <tr>\n",
       "      <th>count</th>\n",
       "      <td>51243.000000</td>\n",
       "      <td>51243.000000</td>\n",
       "      <td>51243.000000</td>\n",
       "      <td>51243.000000</td>\n",
       "    </tr>\n",
       "    <tr>\n",
       "      <th>mean</th>\n",
       "      <td>108934.547938</td>\n",
       "      <td>62.337195</td>\n",
       "      <td>2010.869699</td>\n",
       "      <td>1631.939309</td>\n",
       "    </tr>\n",
       "    <tr>\n",
       "      <th>std</th>\n",
       "      <td>67650.610139</td>\n",
       "      <td>156.606801</td>\n",
       "      <td>2.883072</td>\n",
       "      <td>1061.076889</td>\n",
       "    </tr>\n",
       "    <tr>\n",
       "      <th>min</th>\n",
       "      <td>10.000000</td>\n",
       "      <td>5.000000</td>\n",
       "      <td>2005.000000</td>\n",
       "      <td>1.000000</td>\n",
       "    </tr>\n",
       "    <tr>\n",
       "      <th>25%</th>\n",
       "      <td>57720.000000</td>\n",
       "      <td>25.000000</td>\n",
       "      <td>2009.000000</td>\n",
       "      <td>733.000000</td>\n",
       "    </tr>\n",
       "    <tr>\n",
       "      <th>50%</th>\n",
       "      <td>102440.000000</td>\n",
       "      <td>30.000000</td>\n",
       "      <td>2011.000000</td>\n",
       "      <td>1500.000000</td>\n",
       "    </tr>\n",
       "    <tr>\n",
       "      <th>75%</th>\n",
       "      <td>160525.000000</td>\n",
       "      <td>60.000000</td>\n",
       "      <td>2013.000000</td>\n",
       "      <td>2540.000000</td>\n",
       "    </tr>\n",
       "    <tr>\n",
       "      <th>max</th>\n",
       "      <td>264200.000000</td>\n",
       "      <td>4500.000000</td>\n",
       "      <td>2015.000000</td>\n",
       "      <td>4016.000000</td>\n",
       "    </tr>\n",
       "  </tbody>\n",
       "</table>\n",
       "</div>"
      ],
      "text/plain": [
       "          cliente_id  valor_compra    ano_compra    days_since\n",
       "count   51243.000000  51243.000000  51243.000000  51243.000000\n",
       "mean   108934.547938     62.337195   2010.869699   1631.939309\n",
       "std     67650.610139    156.606801      2.883072   1061.076889\n",
       "min        10.000000      5.000000   2005.000000      1.000000\n",
       "25%     57720.000000     25.000000   2009.000000    733.000000\n",
       "50%    102440.000000     30.000000   2011.000000   1500.000000\n",
       "75%    160525.000000     60.000000   2013.000000   2540.000000\n",
       "max    264200.000000   4500.000000   2015.000000   4016.000000"
      ]
     },
     "execution_count": 48,
     "metadata": {},
     "output_type": "execute_result"
    }
   ],
   "source": [
    "#sumário\n",
    "df_raw.describe()"
   ]
  },
  {
   "cell_type": "code",
   "execution_count": 49,
   "metadata": {},
   "outputs": [
    {
     "data": {
      "text/plain": [
       "<matplotlib.axes._subplots.AxesSubplot at 0x21f02724b00>"
      ]
     },
     "execution_count": 49,
     "metadata": {},
     "output_type": "execute_result"
    },
    {
     "data": {
      "image/png": "[encoded data removed]",
      "text/plain": [
       "<matplotlib.figure.Figure at 0x21f02611a90>"
      ]
     },
     "metadata": {},
     "output_type": "display_data"
    }
   ],
   "source": [
    "# distrubicao valor de compra\n",
    "\n",
    "\n",
    "plt.figure(figsize=(20, 10))\n",
    "\n",
    "plt.subplot(221)\n",
    "#df_raw[\"valor_compra\"].plot.hist()\n",
    "sns.distplot(df_raw[\"valor_compra\"])\n",
    "\n",
    "plt.subplot(222)\n",
    "sns.distplot(np.log(df_raw[\"valor_compra\"]))\n"
   ]
  },
  {
   "cell_type": "code",
   "execution_count": 50,
   "metadata": {},
   "outputs": [
    {
     "data": {
      "text/plain": [
       "<matplotlib.axes._subplots.AxesSubplot at 0x21f02ff2a90>"
      ]
     },
     "execution_count": 50,
     "metadata": {},
     "output_type": "execute_result"
    },
    {
     "data": {
      "image/png": "[encoded data removed]",
      "text/plain": [
       "<matplotlib.figure.Figure at 0x21f02f840f0>"
      ]
     },
     "metadata": {},
     "output_type": "display_data"
    }
   ],
   "source": [
    "plt.figure(figsize=(20, 10))\n",
    "\n",
    "plt.subplot(221)\n",
    "#df_raw[\"days_since\"].plot.hist()\n",
    "sns.distplot(df_raw[\"days_since\"])\n",
    "\n",
    "plt.subplot(222)\n",
    "sns.distplot(np.log(df_raw[\"days_since\"]))"
   ]
  },
  {
   "cell_type": "code",
   "execution_count": 51,
   "metadata": {},
   "outputs": [
    {
     "data": {
      "text/plain": [
       "<matplotlib.axes._subplots.AxesSubplot at 0x21f0311ee48>"
      ]
     },
     "execution_count": 51,
     "metadata": {},
     "output_type": "execute_result"
    },
    {
     "data": {
      "image/png": "[encoded data removed]",
      "text/plain": [
       "<matplotlib.figure.Figure at 0x21f030e4828>"
      ]
     },
     "metadata": {},
     "output_type": "display_data"
    }
   ],
   "source": [
    "plt.figure(figsize=(20, 10))\n",
    "\n",
    "#faturamento anual \n",
    "df_faturamento_anual = df_raw.groupby(\"ano_compra\")[\"valor_compra\"].sum()\n",
    "\n",
    "plt.subplot(221)\n",
    "sns.barplot(y=  df_faturamento_anual, x=df_faturamento_anual.index, color=\"blue\")\n",
    "\n",
    "\n",
    "#faturamento anual acumulado \n",
    "plt.subplot(222)\n",
    "sns.barplot(y=  df_faturamento_anual.cumsum(), x=df_faturamento_anual.index, color=\"blue\")"
   ]
  },
  {
   "cell_type": "code",
   "execution_count": 52,
   "metadata": {
    "scrolled": true
   },
   "outputs": [
    {
     "data": {
      "text/html": [
       "<div>\n",
       "<style scoped>\n",
       "    .dataframe tbody tr th:only-of-type {\n",
       "        vertical-align: middle;\n",
       "    }\n",
       "\n",
       "    .dataframe tbody tr th {\n",
       "        vertical-align: top;\n",
       "    }\n",
       "\n",
       "    .dataframe thead th {\n",
       "        text-align: right;\n",
       "    }\n",
       "</style>\n",
       "<table border=\"1\" class=\"dataframe\">\n",
       "  <thead>\n",
       "    <tr style=\"text-align: right;\">\n",
       "      <th></th>\n",
       "      <th>compra_mais_recente</th>\n",
       "      <th>primeira_compra</th>\n",
       "      <th>fequencia</th>\n",
       "      <th>media_compra</th>\n",
       "      <th>valor_maximo_compra</th>\n",
       "      <th>faturamento</th>\n",
       "    </tr>\n",
       "    <tr>\n",
       "      <th>cliente_id</th>\n",
       "      <th></th>\n",
       "      <th></th>\n",
       "      <th></th>\n",
       "      <th></th>\n",
       "      <th></th>\n",
       "      <th></th>\n",
       "    </tr>\n",
       "  </thead>\n",
       "  <tbody>\n",
       "    <tr>\n",
       "      <th>13610</th>\n",
       "      <td>1307</td>\n",
       "      <td>3657</td>\n",
       "      <td>8</td>\n",
       "      <td>3043.750000</td>\n",
       "      <td>3100.0</td>\n",
       "      <td>24350.0</td>\n",
       "    </tr>\n",
       "    <tr>\n",
       "      <th>144610</th>\n",
       "      <td>1</td>\n",
       "      <td>1988</td>\n",
       "      <td>18</td>\n",
       "      <td>944.444444</td>\n",
       "      <td>1000.0</td>\n",
       "      <td>17000.0</td>\n",
       "    </tr>\n",
       "    <tr>\n",
       "      <th>98550</th>\n",
       "      <td>406</td>\n",
       "      <td>2784</td>\n",
       "      <td>7</td>\n",
       "      <td>2215.285714</td>\n",
       "      <td>4000.0</td>\n",
       "      <td>15507.0</td>\n",
       "    </tr>\n",
       "    <tr>\n",
       "      <th>164930</th>\n",
       "      <td>284</td>\n",
       "      <td>1697</td>\n",
       "      <td>5</td>\n",
       "      <td>2800.000000</td>\n",
       "      <td>3000.0</td>\n",
       "      <td>14000.0</td>\n",
       "    </tr>\n",
       "    <tr>\n",
       "      <th>141340</th>\n",
       "      <td>590</td>\n",
       "      <td>2038</td>\n",
       "      <td>6</td>\n",
       "      <td>2225.166667</td>\n",
       "      <td>4419.0</td>\n",
       "      <td>13351.0</td>\n",
       "    </tr>\n",
       "    <tr>\n",
       "      <th>54170</th>\n",
       "      <td>232</td>\n",
       "      <td>3313</td>\n",
       "      <td>10</td>\n",
       "      <td>1300.000000</td>\n",
       "      <td>2000.0</td>\n",
       "      <td>13000.0</td>\n",
       "    </tr>\n",
       "    <tr>\n",
       "      <th>98790</th>\n",
       "      <td>584</td>\n",
       "      <td>1204</td>\n",
       "      <td>3</td>\n",
       "      <td>4000.000000</td>\n",
       "      <td>4000.0</td>\n",
       "      <td>12000.0</td>\n",
       "    </tr>\n",
       "    <tr>\n",
       "      <th>5330</th>\n",
       "      <td>205</td>\n",
       "      <td>3892</td>\n",
       "      <td>11</td>\n",
       "      <td>997.727273</td>\n",
       "      <td>1525.0</td>\n",
       "      <td>10975.0</td>\n",
       "    </tr>\n",
       "    <tr>\n",
       "      <th>20200</th>\n",
       "      <td>3</td>\n",
       "      <td>3830</td>\n",
       "      <td>10</td>\n",
       "      <td>1010.000000</td>\n",
       "      <td>1500.0</td>\n",
       "      <td>10100.0</td>\n",
       "    </tr>\n",
       "    <tr>\n",
       "      <th>76440</th>\n",
       "      <td>1847</td>\n",
       "      <td>3110</td>\n",
       "      <td>5</td>\n",
       "      <td>2020.000000</td>\n",
       "      <td>3500.0</td>\n",
       "      <td>10100.0</td>\n",
       "    </tr>\n",
       "  </tbody>\n",
       "</table>\n",
       "</div>"
      ],
      "text/plain": [
       "            compra_mais_recente  primeira_compra  fequencia  media_compra  \\\n",
       "cliente_id                                                                  \n",
       "13610                      1307             3657          8   3043.750000   \n",
       "144610                        1             1988         18    944.444444   \n",
       "98550                       406             2784          7   2215.285714   \n",
       "164930                      284             1697          5   2800.000000   \n",
       "141340                      590             2038          6   2225.166667   \n",
       "54170                       232             3313         10   1300.000000   \n",
       "98790                       584             1204          3   4000.000000   \n",
       "5330                        205             3892         11    997.727273   \n",
       "20200                         3             3830         10   1010.000000   \n",
       "76440                      1847             3110          5   2020.000000   \n",
       "\n",
       "            valor_maximo_compra  faturamento  \n",
       "cliente_id                                    \n",
       "13610                    3100.0      24350.0  \n",
       "144610                   1000.0      17000.0  \n",
       "98550                    4000.0      15507.0  \n",
       "164930                   3000.0      14000.0  \n",
       "141340                   4419.0      13351.0  \n",
       "54170                    2000.0      13000.0  \n",
       "98790                    4000.0      12000.0  \n",
       "5330                     1525.0      10975.0  \n",
       "20200                    1500.0      10100.0  \n",
       "76440                    3500.0      10100.0  "
      ]
     },
     "execution_count": 52,
     "metadata": {},
     "output_type": "execute_result"
    }
   ],
   "source": [
    "#sumariar dados por cliente\n",
    "\n",
    "def sumarizar_por_cliente(df):\n",
    "    aggregations = {\n",
    "        \"days_since\" : {\"compra_mais_recente\": \"min\", \"primeira_compra\": \"max\", \"fequencia\": \"count\"},\n",
    "        \"valor_compra\" : {\"media_compra\": \"mean\", \"valor_maximo_compra\" : \"max\", \"faturamento\" : \"sum\"}\n",
    "    }\n",
    "    \n",
    "    df = df.groupby([\"cliente_id\"]).agg(aggregations)\n",
    "    df.columns = [\"compra_mais_recente\", \"primeira_compra\", \"fequencia\", \"media_compra\", \"valor_maximo_compra\", \"faturamento\"]\n",
    "    \n",
    "    return df\n",
    "\n",
    "df_cliente = sumarizar_por_cliente(df_raw)\n",
    "#Quais são os top 10 clientes\n",
    "df_cliente.sort_values(\"faturamento\", ascending=False).head(10)"
   ]
  },
  {
   "cell_type": "markdown",
   "metadata": {},
   "source": [
    "# Segmentacão estatística dos clientes"
   ]
  },
  {
   "cell_type": "code",
   "execution_count": 13,
   "metadata": {},
   "outputs": [],
   "source": [
    "from sklearn.preprocessing import StandardScaler\n",
    "\n",
    "df_std = df_cliente.copy()\n",
    "\n",
    "# aplicando transformação baseada em log para converter dados em distribuicao normal\n",
    "df_std[\"media_compra\"] = np.log(df_std[\"media_compra\"])\n",
    "df_std[\"faturamento\"] = np.log(df_std[\"faturamento\"])\n",
    "\n",
    "# padronizacao dos dados\n",
    "scaler = StandardScaler()\n",
    "df_std = scaler.fit_transform(df_std)"
   ]
  },
  {
   "cell_type": "markdown",
   "metadata": {},
   "source": [
    "## Objetivo: segmentar hierarquicamente os clientes\n",
    "\n",
    "*Hierarchical Clustering* \n",
    "Método que agrupa dados:\n",
    "\n",
    "* Calculando a distância entre cada ponto e seus vizinhos mais próximos (Matriz de distância)\n",
    "* Agrupando vizinhos mais próximos\n",
    "\n"
   ]
  },
  {
   "cell_type": "markdown",
   "metadata": {},
   "source": [
    "### Dendograma\n",
    "\n",
    "Usando scipy para gerar dendrogramas"
   ]
  },
  {
   "cell_type": "code",
   "execution_count": 14,
   "metadata": {},
   "outputs": [],
   "source": [
    "from scipy.cluster.hierarchy import dendrogram, linkage\n",
    "\n",
    "linkage_matrix_ward = linkage(df_std, 'ward')\n",
    "linkage_matrix_complete = linkage(df_std, 'complete')\n",
    "linkage_matrix_avg = linkage(df_std, 'average')"
   ]
  },
  {
   "cell_type": "code",
   "execution_count": 15,
   "metadata": {},
   "outputs": [
    {
     "data": {
      "image/png": "[encoded data removed]",
      "text/plain": [
       "<matplotlib.figure.Figure at 0x21f5fd9d7f0>"
      ]
     },
     "metadata": {},
     "output_type": "display_data"
    }
   ],
   "source": [
    "#plotar dendograma\n",
    "\n",
    "figure = plt.figure(figsize=(15, 7))\n",
    "\n",
    "dendrogram(\n",
    "    linkage_matrix_ward,\n",
    "    #color_threshold=0,\n",
    "    truncate_mode=\"lastp\", # show only the last p merged clusters\n",
    "    p=12, # show only the last p merged clusters\n",
    "    leaf_rotation=45.,\n",
    "    leaf_font_size=15.,\n",
    "    show_contracted = True # to get a distribution impression in truncated branche\n",
    ")\n",
    "plt.title('Truncated Hierarchical Clustering Dendrogram (Ward)')\n",
    "plt.xlabel('Cluster size')\n",
    "plt.ylabel('Distance')\n",
    "plt.tight_layout()\n",
    "\n",
    "\n",
    "plt.axhline(y=160)\n",
    "plt.axhline(y=110)\n",
    "plt.axhline(y=60)\n",
    "\n",
    "plt.show()"
   ]
  },
  {
   "cell_type": "markdown",
   "metadata": {},
   "source": [
    "### Avaliando os clusters com o Coeficiênte de Correlação Copenético\n",
    "\n",
    "Isso (muito resumidamente) compara (correlaciona) as distâncias pares de todas as suas amostras com aquelas implícitas pelo agrupamento hierárquico. Quanto mais próximo o valor estiver de 1, melhor o agrupamento "
   ]
  },
  {
   "cell_type": "code",
   "execution_count": 16,
   "metadata": {},
   "outputs": [
    {
     "name": "stdout",
     "output_type": "stream",
     "text": [
      "Método Ward 0.4399498222525251\n",
      "Método Avg 0.8184777075188433\n",
      "Método Complete 0.6735971684101145\n"
     ]
    }
   ],
   "source": [
    "from scipy.cluster.hierarchy import cophenet\n",
    "from scipy.spatial.distance import pdist\n",
    "\n",
    "c, coph_dists = cophenet(linkage_matrix_ward, pdist(df_std))\n",
    "print (\"Método Ward\", c)\n",
    "\n",
    "\n",
    "c, coph_dists = cophenet(linkage_matrix_avg, pdist(df_std))\n",
    "print (\"Método Avg\", c)\n",
    "\n",
    "c, coph_dists = cophenet(linkage_matrix_complete, pdist(df_std))\n",
    "print (\"Método Complete\", c)"
   ]
  },
  {
   "cell_type": "markdown",
   "metadata": {},
   "source": [
    "### Determinando o Número de Clusters"
   ]
  },
  {
   "cell_type": "code",
   "execution_count": 17,
   "metadata": {},
   "outputs": [],
   "source": [
    "def fancy_dendrogram(*args, **kwargs):\n",
    "    max_d = kwargs.pop('max_d', None)\n",
    "    if max_d and 'color_threshold' not in kwargs:\n",
    "        kwargs['color_threshold'] = max_d\n",
    "    annotate_above = kwargs.pop('annotate_above', 0)\n",
    "\n",
    "    ddata = dendrogram(*args, **kwargs)\n",
    "\n",
    "    if not kwargs.get('no_plot', False):\n",
    "        plt.title('Hierarchical Clustering Dendrogram (truncated)')\n",
    "        plt.xlabel('sample index or (cluster size)')\n",
    "        plt.ylabel('distance')\n",
    "        for i, d, c in zip(ddata['icoord'], ddata['dcoord'], ddata['color_list']):\n",
    "            x = 0.5 * sum(i[1:3])\n",
    "            y = d[1]\n",
    "            if y > annotate_above:\n",
    "                plt.plot(x, y, 'o', c=c)\n",
    "                plt.annotate(\"%.3g\" % y, (x, y), xytext=(0, -5),\n",
    "                             textcoords='offset points',\n",
    "                             va='top', ha='center')\n",
    "        if max_d:\n",
    "            plt.axhline(y=max_d, c='k')\n",
    "    return ddata"
   ]
  },
  {
   "cell_type": "code",
   "execution_count": 18,
   "metadata": {},
   "outputs": [],
   "source": [
    "# set cut-off to 5\n",
    "max_d = 5  # max_d as in max_distance"
   ]
  },
  {
   "cell_type": "code",
   "execution_count": 19,
   "metadata": {},
   "outputs": [
    {
     "data": {
      "image/png": "[encoded data removed]",
      "text/plain": [
       "<matplotlib.figure.Figure at 0x21f001c17b8>"
      ]
     },
     "metadata": {},
     "output_type": "display_data"
    }
   ],
   "source": [
    "figure = plt.figure(figsize=(15, 7))\n",
    "\n",
    "fancy_dendrogram(\n",
    "    linkage_matrix_avg,\n",
    "    truncate_mode='lastp',\n",
    "    p=12,\n",
    "    leaf_rotation=90.,\n",
    "    leaf_font_size=12.,\n",
    "    show_contracted=True,\n",
    "    annotate_above=10,  # useful in small plots so annotations don't overlap\n",
    "    max_d=max_d,  # plot a horizontal cut-off line\n",
    "    #color_threshold=0,\n",
    ")\n",
    "plt.show()"
   ]
  },
  {
   "cell_type": "markdown",
   "metadata": {},
   "source": [
    "Em geral, para um valor de corte escolhido max_d, você pode simplesmente contar o número de interseções com linhas verticais do dendrograma para obter o número de agrupamentos formados. Digamos que escolhemos um corte de max_d = 5, teríamos 7 clusters finais:"
   ]
  },
  {
   "cell_type": "markdown",
   "metadata": {},
   "source": [
    "## Gerando agrupamento hierárquico"
   ]
  },
  {
   "cell_type": "markdown",
   "metadata": {},
   "source": [
    "<img src=\"https://chrisalbon.com/images/machine_learning_flashcards/Aggomerative_Clustering_print.png\" class=\"flashcard center-block\">\n",
    "\n",
    "Em scikit-learn, AgglomerativeClustering usa o parâmetro linkage para determinar a estratégia de fusão para minimizar:\n",
    "\n",
    "1. variância dos clusters criados (ward)\n",
    "2. média das distâncias entre observação dos pares de clusters (average)\n",
    "3. distância máxima entre as observações dos pares de clusters (complete).\n",
    "\n",
    "\n",
    "Dois outros parâmetros são úteis para saber. Primeiro, o parâmetro de afinidade (*affinity*) determina a métrica de distância usada para a ligação (linkage) (minkowski, euclidean, etc.). Segundo, *n_clusters* define o número de clusters que o algoritmo de clustering tentará encontrar. Ou seja, os clusters são sucessivamente mesclados até que restem apenas n_clusters.\n"
   ]
  },
  {
   "cell_type": "code",
   "execution_count": 20,
   "metadata": {},
   "outputs": [],
   "source": [
    "from sklearn.cluster import AgglomerativeClustering"
   ]
  },
  {
   "cell_type": "code",
   "execution_count": 21,
   "metadata": {},
   "outputs": [
    {
     "data": {
      "text/plain": [
       "AgglomerativeClustering(affinity='euclidean', compute_full_tree='auto',\n",
       "            connectivity=None, linkage='average', memory=None,\n",
       "            n_clusters=7, pooling_func='deprecated')"
      ]
     },
     "execution_count": 21,
     "metadata": {},
     "output_type": "execute_result"
    }
   ],
   "source": [
    "# Compute clustering\n",
    "\n",
    "k = 7 \n",
    "Hclustering  = AgglomerativeClustering(n_clusters=k, linkage='average', affinity=\"euclidean\" )\n",
    "\n",
    "Hclustering.fit(df_std)"
   ]
  },
  {
   "cell_type": "code",
   "execution_count": 22,
   "metadata": {},
   "outputs": [
    {
     "data": {
      "text/plain": [
       "array([6, 6, 6, ..., 6, 6, 4], dtype=int64)"
      ]
     },
     "execution_count": 22,
     "metadata": {},
     "output_type": "execute_result"
    }
   ],
   "source": [
    "# cluster labels for each point\n",
    "Hclustering.labels_"
   ]
  },
  {
   "cell_type": "markdown",
   "metadata": {},
   "source": [
    "## Segmentação Gerencial\n",
    "\n",
    "Utilizando regras definidas pelo negócio para realizar segmentação de clientes"
   ]
  },
  {
   "cell_type": "code",
   "execution_count": 53,
   "metadata": {},
   "outputs": [],
   "source": [
    "def seg_negocial(df):\n",
    "    if \"segmento\" in df.columns.tolist():\n",
    "        df.drop([\"segmento\"], axis=1, inplace=True)\n",
    "    \n",
    "    df[\"segmento\"] = \"NA\"\n",
    "    df.loc[df.compra_mais_recente > 365*3, 'segmento'] = \"Inativo\"\n",
    "    df.loc[(df.compra_mais_recente <= 365*3) & (df.compra_mais_recente > 365*2), 'segmento'] = \"Frio\"\n",
    "    df.loc[(df.compra_mais_recente <= 365*2) & (df.compra_mais_recente > 365*1), 'segmento'] = \"Quente\"\n",
    "    df.loc[df.compra_mais_recente <= 365, 'segmento'] = \"Ativo\"\n",
    "\n",
    "    df.loc[(df.segmento == \"Quente\") & (df.primeira_compra <= 365*2) , 'segmento'] = \"Novo Quente\"\n",
    "    df.loc[(df.segmento == \"Quente\") & (df.media_compra < 100) , 'segmento'] = \"Quente - Valor Baixo\"\n",
    "    df.loc[(df.segmento == \"Quente\") & (df.media_compra >= 100) , 'segmento'] = \"Quente - Valor Alto\"\n",
    "\n",
    "    df.loc[(df.segmento == \"Ativo\") & (df.primeira_compra <= 365) , 'segmento'] = \"Novo Ativo\"\n",
    "    df.loc[(df.segmento == \"Ativo\") & (df.media_compra < 100) , 'segmento'] = \"Ativo - Valor Baixo\"\n",
    "    df.loc[(df.segmento == \"Ativo\") & (df.media_compra >= 100) , 'segmento'] = \"Ativo - Valor Alto\"\n",
    "    \n",
    "    \n",
    "    categories = [\"Inativo\", \"Frio\",\n",
    "                  \"Quente - Valor Alto\", \"Quente - Valor Baixo\", \"Novo Quente\",\n",
    "                   \"Ativo - Valor Alto\", \"Ativo - Valor Baixo\", \"Novo Ativo\"]\n",
    "    \n",
    "    df.segmento = df.segmento.astype('category', categories=categories, ordered=True)\n",
    "    \n",
    "    return df"
   ]
  },
  {
   "cell_type": "code",
   "execution_count": 54,
   "metadata": {},
   "outputs": [
    {
     "data": {
      "text/plain": [
       "Inativo                 9158\n",
       "Ativo - Valor Baixo     3313\n",
       "Frio                    1903\n",
       "Novo Ativo              1512\n",
       "Novo Quente              938\n",
       "Quente - Valor Baixo     901\n",
       "Ativo - Valor Alto       573\n",
       "Quente - Valor Alto      119\n",
       "Name: segmento, dtype: int64"
      ]
     },
     "execution_count": 54,
     "metadata": {},
     "output_type": "execute_result"
    }
   ],
   "source": [
    "# quantidade de clientes por segmento em 2015\n",
    "df_cliente_2015 = seg_negocial(df_cliente)\n",
    "df_cliente_2015.segmento.value_counts()"
   ]
  },
  {
   "cell_type": "code",
   "execution_count": 55,
   "metadata": {},
   "outputs": [
    {
     "data": {
      "text/plain": [
       "Inativo                 7512\n",
       "Ativo - Valor Baixo     3011\n",
       "Frio                    2153\n",
       "Novo Ativo              1437\n",
       "Novo Quente             1250\n",
       "Quente - Valor Baixo     956\n",
       "Ativo - Valor Alto       475\n",
       "Quente - Valor Alto      111\n",
       "Name: segmento, dtype: int64"
      ]
     },
     "execution_count": 55,
     "metadata": {},
     "output_type": "execute_result"
    }
   ],
   "source": [
    "# quantidade de clientes por segmento em 2014\n",
    "\n",
    "df_raw_2014 = df_raw[df_raw.days_since > 365]\n",
    "df_cliente_2014 = sumarizar_por_cliente(df_raw_2014)\n",
    "\n",
    "df_cliente_2014.compra_mais_recente = df_cliente_2014.compra_mais_recente - 365\n",
    "df_cliente_2014.primeira_compra = df_cliente_2014.primeira_compra - 365\n",
    "\n",
    "\n",
    "df_cliente_2014 = seg_negocial(df_cliente_2014)\n",
    "df_cliente_2014.segmento.value_counts()\n"
   ]
  },
  {
   "cell_type": "markdown",
   "metadata": {},
   "source": [
    "# LTV - Life Time Value"
   ]
  },
  {
   "cell_type": "code",
   "execution_count": 56,
   "metadata": {},
   "outputs": [
    {
     "data": {
      "text/html": [
       "<div>\n",
       "<style scoped>\n",
       "    .dataframe tbody tr th:only-of-type {\n",
       "        vertical-align: middle;\n",
       "    }\n",
       "\n",
       "    .dataframe tbody tr th {\n",
       "        vertical-align: top;\n",
       "    }\n",
       "\n",
       "    .dataframe thead th {\n",
       "        text-align: right;\n",
       "    }\n",
       "</style>\n",
       "<table border=\"1\" class=\"dataframe\">\n",
       "  <thead>\n",
       "    <tr style=\"text-align: right;\">\n",
       "      <th></th>\n",
       "      <th>compra_mais_recente_x</th>\n",
       "      <th>primeira_compra_x</th>\n",
       "      <th>fequencia_x</th>\n",
       "      <th>media_compra_x</th>\n",
       "      <th>valor_maximo_compra_x</th>\n",
       "      <th>faturamento_x</th>\n",
       "      <th>segmento_x</th>\n",
       "      <th>compra_mais_recente_y</th>\n",
       "      <th>primeira_compra_y</th>\n",
       "      <th>fequencia_y</th>\n",
       "      <th>media_compra_y</th>\n",
       "      <th>valor_maximo_compra_y</th>\n",
       "      <th>faturamento_y</th>\n",
       "      <th>segmento_y</th>\n",
       "    </tr>\n",
       "    <tr>\n",
       "      <th>cliente_id</th>\n",
       "      <th></th>\n",
       "      <th></th>\n",
       "      <th></th>\n",
       "      <th></th>\n",
       "      <th></th>\n",
       "      <th></th>\n",
       "      <th></th>\n",
       "      <th></th>\n",
       "      <th></th>\n",
       "      <th></th>\n",
       "      <th></th>\n",
       "      <th></th>\n",
       "      <th></th>\n",
       "      <th></th>\n",
       "    </tr>\n",
       "  </thead>\n",
       "  <tbody>\n",
       "    <tr>\n",
       "      <th>10</th>\n",
       "      <td>3464.0</td>\n",
       "      <td>3464.0</td>\n",
       "      <td>1.0</td>\n",
       "      <td>30.0</td>\n",
       "      <td>30.0</td>\n",
       "      <td>30.0</td>\n",
       "      <td>Inativo</td>\n",
       "      <td>3829</td>\n",
       "      <td>3829</td>\n",
       "      <td>1</td>\n",
       "      <td>30.000000</td>\n",
       "      <td>30.0</td>\n",
       "      <td>30.0</td>\n",
       "      <td>Inativo</td>\n",
       "    </tr>\n",
       "    <tr>\n",
       "      <th>80</th>\n",
       "      <td>302.0</td>\n",
       "      <td>3386.0</td>\n",
       "      <td>6.0</td>\n",
       "      <td>70.0</td>\n",
       "      <td>80.0</td>\n",
       "      <td>420.0</td>\n",
       "      <td>Ativo - Valor Baixo</td>\n",
       "      <td>343</td>\n",
       "      <td>3751</td>\n",
       "      <td>7</td>\n",
       "      <td>71.428571</td>\n",
       "      <td>80.0</td>\n",
       "      <td>500.0</td>\n",
       "      <td>Ativo - Valor Baixo</td>\n",
       "    </tr>\n",
       "    <tr>\n",
       "      <th>90</th>\n",
       "      <td>393.0</td>\n",
       "      <td>3418.0</td>\n",
       "      <td>10.0</td>\n",
       "      <td>115.8</td>\n",
       "      <td>153.0</td>\n",
       "      <td>1158.0</td>\n",
       "      <td>Quente - Valor Alto</td>\n",
       "      <td>758</td>\n",
       "      <td>3783</td>\n",
       "      <td>10</td>\n",
       "      <td>115.800000</td>\n",
       "      <td>153.0</td>\n",
       "      <td>1158.0</td>\n",
       "      <td>Frio</td>\n",
       "    </tr>\n",
       "    <tr>\n",
       "      <th>120</th>\n",
       "      <td>1036.0</td>\n",
       "      <td>1036.0</td>\n",
       "      <td>1.0</td>\n",
       "      <td>20.0</td>\n",
       "      <td>20.0</td>\n",
       "      <td>20.0</td>\n",
       "      <td>Frio</td>\n",
       "      <td>1401</td>\n",
       "      <td>1401</td>\n",
       "      <td>1</td>\n",
       "      <td>20.000000</td>\n",
       "      <td>20.0</td>\n",
       "      <td>20.0</td>\n",
       "      <td>Inativo</td>\n",
       "    </tr>\n",
       "    <tr>\n",
       "      <th>130</th>\n",
       "      <td>2605.0</td>\n",
       "      <td>3345.0</td>\n",
       "      <td>2.0</td>\n",
       "      <td>50.0</td>\n",
       "      <td>60.0</td>\n",
       "      <td>100.0</td>\n",
       "      <td>Inativo</td>\n",
       "      <td>2970</td>\n",
       "      <td>3710</td>\n",
       "      <td>2</td>\n",
       "      <td>50.000000</td>\n",
       "      <td>60.0</td>\n",
       "      <td>100.0</td>\n",
       "      <td>Inativo</td>\n",
       "    </tr>\n",
       "  </tbody>\n",
       "</table>\n",
       "</div>"
      ],
      "text/plain": [
       "            compra_mais_recente_x  primeira_compra_x  fequencia_x  \\\n",
       "cliente_id                                                          \n",
       "10                         3464.0             3464.0          1.0   \n",
       "80                          302.0             3386.0          6.0   \n",
       "90                          393.0             3418.0         10.0   \n",
       "120                        1036.0             1036.0          1.0   \n",
       "130                        2605.0             3345.0          2.0   \n",
       "\n",
       "            media_compra_x  valor_maximo_compra_x  faturamento_x  \\\n",
       "cliente_id                                                         \n",
       "10                    30.0                   30.0           30.0   \n",
       "80                    70.0                   80.0          420.0   \n",
       "90                   115.8                  153.0         1158.0   \n",
       "120                   20.0                   20.0           20.0   \n",
       "130                   50.0                   60.0          100.0   \n",
       "\n",
       "                     segmento_x  compra_mais_recente_y  primeira_compra_y  \\\n",
       "cliente_id                                                                  \n",
       "10                      Inativo                   3829               3829   \n",
       "80          Ativo - Valor Baixo                    343               3751   \n",
       "90          Quente - Valor Alto                    758               3783   \n",
       "120                        Frio                   1401               1401   \n",
       "130                     Inativo                   2970               3710   \n",
       "\n",
       "            fequencia_y  media_compra_y  valor_maximo_compra_y  faturamento_y  \\\n",
       "cliente_id                                                                      \n",
       "10                    1       30.000000                   30.0           30.0   \n",
       "80                    7       71.428571                   80.0          500.0   \n",
       "90                   10      115.800000                  153.0         1158.0   \n",
       "120                   1       20.000000                   20.0           20.0   \n",
       "130                   2       50.000000                   60.0          100.0   \n",
       "\n",
       "                     segmento_y  \n",
       "cliente_id                       \n",
       "10                      Inativo  \n",
       "80          Ativo - Valor Baixo  \n",
       "90                         Frio  \n",
       "120                     Inativo  \n",
       "130                     Inativo  "
      ]
     },
     "metadata": {},
     "output_type": "display_data"
    },
    {
     "data": {
      "text/html": [
       "<div>\n",
       "<style scoped>\n",
       "    .dataframe tbody tr th:only-of-type {\n",
       "        vertical-align: middle;\n",
       "    }\n",
       "\n",
       "    .dataframe tbody tr th {\n",
       "        vertical-align: top;\n",
       "    }\n",
       "\n",
       "    .dataframe thead th {\n",
       "        text-align: right;\n",
       "    }\n",
       "</style>\n",
       "<table border=\"1\" class=\"dataframe\">\n",
       "  <thead>\n",
       "    <tr style=\"text-align: right;\">\n",
       "      <th>segmento_y</th>\n",
       "      <th>Inativo</th>\n",
       "      <th>Frio</th>\n",
       "      <th>Quente - Valor Alto</th>\n",
       "      <th>Quente - Valor Baixo</th>\n",
       "      <th>Novo Quente</th>\n",
       "      <th>Ativo - Valor Alto</th>\n",
       "      <th>Ativo - Valor Baixo</th>\n",
       "      <th>Novo Ativo</th>\n",
       "    </tr>\n",
       "    <tr>\n",
       "      <th>segmento_x</th>\n",
       "      <th></th>\n",
       "      <th></th>\n",
       "      <th></th>\n",
       "      <th></th>\n",
       "      <th></th>\n",
       "      <th></th>\n",
       "      <th></th>\n",
       "      <th></th>\n",
       "    </tr>\n",
       "  </thead>\n",
       "  <tbody>\n",
       "    <tr>\n",
       "      <th>Inativo</th>\n",
       "      <td>7227</td>\n",
       "      <td>0</td>\n",
       "      <td>0</td>\n",
       "      <td>0</td>\n",
       "      <td>0</td>\n",
       "      <td>35</td>\n",
       "      <td>250</td>\n",
       "      <td>0</td>\n",
       "    </tr>\n",
       "    <tr>\n",
       "      <th>Frio</th>\n",
       "      <td>1931</td>\n",
       "      <td>0</td>\n",
       "      <td>0</td>\n",
       "      <td>0</td>\n",
       "      <td>0</td>\n",
       "      <td>22</td>\n",
       "      <td>200</td>\n",
       "      <td>0</td>\n",
       "    </tr>\n",
       "    <tr>\n",
       "      <th>Quente - Valor Alto</th>\n",
       "      <td>0</td>\n",
       "      <td>75</td>\n",
       "      <td>0</td>\n",
       "      <td>0</td>\n",
       "      <td>0</td>\n",
       "      <td>35</td>\n",
       "      <td>1</td>\n",
       "      <td>0</td>\n",
       "    </tr>\n",
       "    <tr>\n",
       "      <th>Quente - Valor Baixo</th>\n",
       "      <td>0</td>\n",
       "      <td>689</td>\n",
       "      <td>0</td>\n",
       "      <td>0</td>\n",
       "      <td>0</td>\n",
       "      <td>1</td>\n",
       "      <td>266</td>\n",
       "      <td>0</td>\n",
       "    </tr>\n",
       "    <tr>\n",
       "      <th>Novo Quente</th>\n",
       "      <td>0</td>\n",
       "      <td>1139</td>\n",
       "      <td>0</td>\n",
       "      <td>0</td>\n",
       "      <td>0</td>\n",
       "      <td>15</td>\n",
       "      <td>96</td>\n",
       "      <td>0</td>\n",
       "    </tr>\n",
       "    <tr>\n",
       "      <th>Ativo - Valor Alto</th>\n",
       "      <td>0</td>\n",
       "      <td>0</td>\n",
       "      <td>119</td>\n",
       "      <td>0</td>\n",
       "      <td>0</td>\n",
       "      <td>354</td>\n",
       "      <td>2</td>\n",
       "      <td>0</td>\n",
       "    </tr>\n",
       "    <tr>\n",
       "      <th>Ativo - Valor Baixo</th>\n",
       "      <td>0</td>\n",
       "      <td>0</td>\n",
       "      <td>0</td>\n",
       "      <td>901</td>\n",
       "      <td>0</td>\n",
       "      <td>22</td>\n",
       "      <td>2088</td>\n",
       "      <td>0</td>\n",
       "    </tr>\n",
       "    <tr>\n",
       "      <th>Novo Ativo</th>\n",
       "      <td>0</td>\n",
       "      <td>0</td>\n",
       "      <td>0</td>\n",
       "      <td>0</td>\n",
       "      <td>938</td>\n",
       "      <td>89</td>\n",
       "      <td>410</td>\n",
       "      <td>0</td>\n",
       "    </tr>\n",
       "  </tbody>\n",
       "</table>\n",
       "</div>"
      ],
      "text/plain": [
       "segmento_y            Inativo  Frio  Quente - Valor Alto  \\\n",
       "segmento_x                                                 \n",
       "Inativo                  7227     0                    0   \n",
       "Frio                     1931     0                    0   \n",
       "Quente - Valor Alto         0    75                    0   \n",
       "Quente - Valor Baixo        0   689                    0   \n",
       "Novo Quente                 0  1139                    0   \n",
       "Ativo - Valor Alto          0     0                  119   \n",
       "Ativo - Valor Baixo         0     0                    0   \n",
       "Novo Ativo                  0     0                    0   \n",
       "\n",
       "segmento_y            Quente - Valor Baixo  Novo Quente  Ativo - Valor Alto  \\\n",
       "segmento_x                                                                    \n",
       "Inativo                                  0            0                  35   \n",
       "Frio                                     0            0                  22   \n",
       "Quente - Valor Alto                      0            0                  35   \n",
       "Quente - Valor Baixo                     0            0                   1   \n",
       "Novo Quente                              0            0                  15   \n",
       "Ativo - Valor Alto                       0            0                 354   \n",
       "Ativo - Valor Baixo                    901            0                  22   \n",
       "Novo Ativo                               0          938                  89   \n",
       "\n",
       "segmento_y            Ativo - Valor Baixo  Novo Ativo  \n",
       "segmento_x                                             \n",
       "Inativo                               250           0  \n",
       "Frio                                  200           0  \n",
       "Quente - Valor Alto                     1           0  \n",
       "Quente - Valor Baixo                  266           0  \n",
       "Novo Quente                            96           0  \n",
       "Ativo - Valor Alto                      2           0  \n",
       "Ativo - Valor Baixo                  2088           0  \n",
       "Novo Ativo                            410           0  "
      ]
     },
     "metadata": {},
     "output_type": "display_data"
    },
    {
     "data": {
      "text/html": [
       "<div>\n",
       "<style scoped>\n",
       "    .dataframe tbody tr th:only-of-type {\n",
       "        vertical-align: middle;\n",
       "    }\n",
       "\n",
       "    .dataframe tbody tr th {\n",
       "        vertical-align: top;\n",
       "    }\n",
       "\n",
       "    .dataframe thead th {\n",
       "        text-align: right;\n",
       "    }\n",
       "</style>\n",
       "<table border=\"1\" class=\"dataframe\">\n",
       "  <thead>\n",
       "    <tr style=\"text-align: right;\">\n",
       "      <th>segmento_y</th>\n",
       "      <th>Inativo</th>\n",
       "      <th>Frio</th>\n",
       "      <th>Quente - Valor Alto</th>\n",
       "      <th>Quente - Valor Baixo</th>\n",
       "      <th>Novo Quente</th>\n",
       "      <th>Ativo - Valor Alto</th>\n",
       "      <th>Ativo - Valor Baixo</th>\n",
       "      <th>Novo Ativo</th>\n",
       "    </tr>\n",
       "    <tr>\n",
       "      <th>segmento_x</th>\n",
       "      <th></th>\n",
       "      <th></th>\n",
       "      <th></th>\n",
       "      <th></th>\n",
       "      <th></th>\n",
       "      <th></th>\n",
       "      <th></th>\n",
       "      <th></th>\n",
       "    </tr>\n",
       "  </thead>\n",
       "  <tbody>\n",
       "    <tr>\n",
       "      <th>Inativo</th>\n",
       "      <td>0.962061</td>\n",
       "      <td>0.000000</td>\n",
       "      <td>0.000000</td>\n",
       "      <td>0.000000</td>\n",
       "      <td>0.000000</td>\n",
       "      <td>0.004659</td>\n",
       "      <td>0.033280</td>\n",
       "      <td>0.0</td>\n",
       "    </tr>\n",
       "    <tr>\n",
       "      <th>Frio</th>\n",
       "      <td>0.896888</td>\n",
       "      <td>0.000000</td>\n",
       "      <td>0.000000</td>\n",
       "      <td>0.000000</td>\n",
       "      <td>0.000000</td>\n",
       "      <td>0.010218</td>\n",
       "      <td>0.092894</td>\n",
       "      <td>0.0</td>\n",
       "    </tr>\n",
       "    <tr>\n",
       "      <th>Quente - Valor Alto</th>\n",
       "      <td>0.000000</td>\n",
       "      <td>0.675676</td>\n",
       "      <td>0.000000</td>\n",
       "      <td>0.000000</td>\n",
       "      <td>0.000000</td>\n",
       "      <td>0.315315</td>\n",
       "      <td>0.009009</td>\n",
       "      <td>0.0</td>\n",
       "    </tr>\n",
       "    <tr>\n",
       "      <th>Quente - Valor Baixo</th>\n",
       "      <td>0.000000</td>\n",
       "      <td>0.720711</td>\n",
       "      <td>0.000000</td>\n",
       "      <td>0.000000</td>\n",
       "      <td>0.000000</td>\n",
       "      <td>0.001046</td>\n",
       "      <td>0.278243</td>\n",
       "      <td>0.0</td>\n",
       "    </tr>\n",
       "    <tr>\n",
       "      <th>Novo Quente</th>\n",
       "      <td>0.000000</td>\n",
       "      <td>0.911200</td>\n",
       "      <td>0.000000</td>\n",
       "      <td>0.000000</td>\n",
       "      <td>0.000000</td>\n",
       "      <td>0.012000</td>\n",
       "      <td>0.076800</td>\n",
       "      <td>0.0</td>\n",
       "    </tr>\n",
       "    <tr>\n",
       "      <th>Ativo - Valor Alto</th>\n",
       "      <td>0.000000</td>\n",
       "      <td>0.000000</td>\n",
       "      <td>0.250526</td>\n",
       "      <td>0.000000</td>\n",
       "      <td>0.000000</td>\n",
       "      <td>0.745263</td>\n",
       "      <td>0.004211</td>\n",
       "      <td>0.0</td>\n",
       "    </tr>\n",
       "    <tr>\n",
       "      <th>Ativo - Valor Baixo</th>\n",
       "      <td>0.000000</td>\n",
       "      <td>0.000000</td>\n",
       "      <td>0.000000</td>\n",
       "      <td>0.299236</td>\n",
       "      <td>0.000000</td>\n",
       "      <td>0.007307</td>\n",
       "      <td>0.693457</td>\n",
       "      <td>0.0</td>\n",
       "    </tr>\n",
       "    <tr>\n",
       "      <th>Novo Ativo</th>\n",
       "      <td>0.000000</td>\n",
       "      <td>0.000000</td>\n",
       "      <td>0.000000</td>\n",
       "      <td>0.000000</td>\n",
       "      <td>0.652749</td>\n",
       "      <td>0.061935</td>\n",
       "      <td>0.285317</td>\n",
       "      <td>0.0</td>\n",
       "    </tr>\n",
       "  </tbody>\n",
       "</table>\n",
       "</div>"
      ],
      "text/plain": [
       "segmento_y             Inativo      Frio  Quente - Valor Alto  \\\n",
       "segmento_x                                                      \n",
       "Inativo               0.962061  0.000000             0.000000   \n",
       "Frio                  0.896888  0.000000             0.000000   \n",
       "Quente - Valor Alto   0.000000  0.675676             0.000000   \n",
       "Quente - Valor Baixo  0.000000  0.720711             0.000000   \n",
       "Novo Quente           0.000000  0.911200             0.000000   \n",
       "Ativo - Valor Alto    0.000000  0.000000             0.250526   \n",
       "Ativo - Valor Baixo   0.000000  0.000000             0.000000   \n",
       "Novo Ativo            0.000000  0.000000             0.000000   \n",
       "\n",
       "segmento_y            Quente - Valor Baixo  Novo Quente  Ativo - Valor Alto  \\\n",
       "segmento_x                                                                    \n",
       "Inativo                           0.000000     0.000000            0.004659   \n",
       "Frio                              0.000000     0.000000            0.010218   \n",
       "Quente - Valor Alto               0.000000     0.000000            0.315315   \n",
       "Quente - Valor Baixo              0.000000     0.000000            0.001046   \n",
       "Novo Quente                       0.000000     0.000000            0.012000   \n",
       "Ativo - Valor Alto                0.000000     0.000000            0.745263   \n",
       "Ativo - Valor Baixo               0.299236     0.000000            0.007307   \n",
       "Novo Ativo                        0.000000     0.652749            0.061935   \n",
       "\n",
       "segmento_y            Ativo - Valor Baixo  Novo Ativo  \n",
       "segmento_x                                             \n",
       "Inativo                          0.033280         0.0  \n",
       "Frio                             0.092894         0.0  \n",
       "Quente - Valor Alto              0.009009         0.0  \n",
       "Quente - Valor Baixo             0.278243         0.0  \n",
       "Novo Quente                      0.076800         0.0  \n",
       "Ativo - Valor Alto               0.004211         0.0  \n",
       "Ativo - Valor Baixo              0.693457         0.0  \n",
       "Novo Ativo                       0.285317         0.0  "
      ]
     },
     "execution_count": 56,
     "metadata": {},
     "output_type": "execute_result"
    }
   ],
   "source": [
    "# Computando a matriz de transição de segmentos entre 2014 e 2015\n",
    "\n",
    "new_data = pd.merge(df_cliente_2014, df_cliente_2015,  how='outer', left_index=True, right_index=True) # on='cliente_id',\n",
    "display(new_data.head())\n",
    "\n",
    "\n",
    "df_transition = pd.crosstab(new_data.segmento_x, new_data.segmento_y)\n",
    "\n",
    "display(df_transition)\n",
    "\n",
    "\n",
    "\n",
    "# Divide cada linha pela soma\n",
    "df_transition = df_transition.div(df_transition.sum(axis=1), axis=0)\n",
    "df_transition\n",
    "\n",
    "\n"
   ]
  },
  {
   "cell_type": "markdown",
   "metadata": {},
   "source": [
    "## Usando a matriz de transição para fazer previsões"
   ]
  },
  {
   "cell_type": "code",
   "execution_count": 57,
   "metadata": {},
   "outputs": [
    {
     "data": {
      "text/html": [
       "<div>\n",
       "<style scoped>\n",
       "    .dataframe tbody tr th:only-of-type {\n",
       "        vertical-align: middle;\n",
       "    }\n",
       "\n",
       "    .dataframe tbody tr th {\n",
       "        vertical-align: top;\n",
       "    }\n",
       "\n",
       "    .dataframe thead th {\n",
       "        text-align: right;\n",
       "    }\n",
       "</style>\n",
       "<table border=\"1\" class=\"dataframe\">\n",
       "  <thead>\n",
       "    <tr style=\"text-align: right;\">\n",
       "      <th></th>\n",
       "      <th>2015</th>\n",
       "      <th>2016</th>\n",
       "      <th>2017</th>\n",
       "      <th>2018</th>\n",
       "      <th>2019</th>\n",
       "      <th>2020</th>\n",
       "      <th>2021</th>\n",
       "      <th>2022</th>\n",
       "      <th>2023</th>\n",
       "      <th>2024</th>\n",
       "      <th>2025</th>\n",
       "    </tr>\n",
       "  </thead>\n",
       "  <tbody>\n",
       "    <tr>\n",
       "      <th>Inativo</th>\n",
       "      <td>9158</td>\n",
       "      <td>0</td>\n",
       "      <td>0</td>\n",
       "      <td>0</td>\n",
       "      <td>0</td>\n",
       "      <td>0</td>\n",
       "      <td>0</td>\n",
       "      <td>0</td>\n",
       "      <td>0</td>\n",
       "      <td>0</td>\n",
       "      <td>0</td>\n",
       "    </tr>\n",
       "    <tr>\n",
       "      <th>Frio</th>\n",
       "      <td>1903</td>\n",
       "      <td>0</td>\n",
       "      <td>0</td>\n",
       "      <td>0</td>\n",
       "      <td>0</td>\n",
       "      <td>0</td>\n",
       "      <td>0</td>\n",
       "      <td>0</td>\n",
       "      <td>0</td>\n",
       "      <td>0</td>\n",
       "      <td>0</td>\n",
       "    </tr>\n",
       "    <tr>\n",
       "      <th>Quente - Valor Alto</th>\n",
       "      <td>119</td>\n",
       "      <td>0</td>\n",
       "      <td>0</td>\n",
       "      <td>0</td>\n",
       "      <td>0</td>\n",
       "      <td>0</td>\n",
       "      <td>0</td>\n",
       "      <td>0</td>\n",
       "      <td>0</td>\n",
       "      <td>0</td>\n",
       "      <td>0</td>\n",
       "    </tr>\n",
       "    <tr>\n",
       "      <th>Quente - Valor Baixo</th>\n",
       "      <td>901</td>\n",
       "      <td>0</td>\n",
       "      <td>0</td>\n",
       "      <td>0</td>\n",
       "      <td>0</td>\n",
       "      <td>0</td>\n",
       "      <td>0</td>\n",
       "      <td>0</td>\n",
       "      <td>0</td>\n",
       "      <td>0</td>\n",
       "      <td>0</td>\n",
       "    </tr>\n",
       "    <tr>\n",
       "      <th>Novo Quente</th>\n",
       "      <td>938</td>\n",
       "      <td>0</td>\n",
       "      <td>0</td>\n",
       "      <td>0</td>\n",
       "      <td>0</td>\n",
       "      <td>0</td>\n",
       "      <td>0</td>\n",
       "      <td>0</td>\n",
       "      <td>0</td>\n",
       "      <td>0</td>\n",
       "      <td>0</td>\n",
       "    </tr>\n",
       "    <tr>\n",
       "      <th>Ativo - Valor Alto</th>\n",
       "      <td>573</td>\n",
       "      <td>0</td>\n",
       "      <td>0</td>\n",
       "      <td>0</td>\n",
       "      <td>0</td>\n",
       "      <td>0</td>\n",
       "      <td>0</td>\n",
       "      <td>0</td>\n",
       "      <td>0</td>\n",
       "      <td>0</td>\n",
       "      <td>0</td>\n",
       "    </tr>\n",
       "    <tr>\n",
       "      <th>Ativo - Valor Baixo</th>\n",
       "      <td>3313</td>\n",
       "      <td>0</td>\n",
       "      <td>0</td>\n",
       "      <td>0</td>\n",
       "      <td>0</td>\n",
       "      <td>0</td>\n",
       "      <td>0</td>\n",
       "      <td>0</td>\n",
       "      <td>0</td>\n",
       "      <td>0</td>\n",
       "      <td>0</td>\n",
       "    </tr>\n",
       "    <tr>\n",
       "      <th>Novo Ativo</th>\n",
       "      <td>1512</td>\n",
       "      <td>0</td>\n",
       "      <td>0</td>\n",
       "      <td>0</td>\n",
       "      <td>0</td>\n",
       "      <td>0</td>\n",
       "      <td>0</td>\n",
       "      <td>0</td>\n",
       "      <td>0</td>\n",
       "      <td>0</td>\n",
       "      <td>0</td>\n",
       "    </tr>\n",
       "  </tbody>\n",
       "</table>\n",
       "</div>"
      ],
      "text/plain": [
       "                      2015  2016  2017  2018  2019  2020  2021  2022  2023  \\\n",
       "Inativo               9158     0     0     0     0     0     0     0     0   \n",
       "Frio                  1903     0     0     0     0     0     0     0     0   \n",
       "Quente - Valor Alto    119     0     0     0     0     0     0     0     0   \n",
       "Quente - Valor Baixo   901     0     0     0     0     0     0     0     0   \n",
       "Novo Quente            938     0     0     0     0     0     0     0     0   \n",
       "Ativo - Valor Alto     573     0     0     0     0     0     0     0     0   \n",
       "Ativo - Valor Baixo   3313     0     0     0     0     0     0     0     0   \n",
       "Novo Ativo            1512     0     0     0     0     0     0     0     0   \n",
       "\n",
       "                      2024  2025  \n",
       "Inativo                  0     0  \n",
       "Frio                     0     0  \n",
       "Quente - Valor Alto      0     0  \n",
       "Quente - Valor Baixo     0     0  \n",
       "Novo Quente              0     0  \n",
       "Ativo - Valor Alto       0     0  \n",
       "Ativo - Valor Baixo      0     0  \n",
       "Novo Ativo               0     0  "
      ]
     },
     "execution_count": 57,
     "metadata": {},
     "output_type": "execute_result"
    }
   ],
   "source": [
    "# Inicializa a matriz com o número de clientes em cada segmento hoje e após 10 períodos (anos)\n",
    "index = df_cliente_2014.segmento.cat.categories\n",
    "columns = range(2015, 2026)\n",
    "\n",
    "df_segmentos = pd.DataFrame(index=index, columns=[str(col) for col in columns])\n",
    "df_segmentos.fillna(0, inplace=True)\n",
    "\n",
    "df_segmentos[\"2015\"] = df_cliente_2015.segmento.value_counts(sort=False).values\n",
    "\n",
    "df_segmentos"
   ]
  },
  {
   "cell_type": "code",
   "execution_count": 58,
   "metadata": {},
   "outputs": [
    {
     "data": {
      "text/html": [
       "<div>\n",
       "<style scoped>\n",
       "    .dataframe tbody tr th:only-of-type {\n",
       "        vertical-align: middle;\n",
       "    }\n",
       "\n",
       "    .dataframe tbody tr th {\n",
       "        vertical-align: top;\n",
       "    }\n",
       "\n",
       "    .dataframe thead th {\n",
       "        text-align: right;\n",
       "    }\n",
       "</style>\n",
       "<table border=\"1\" class=\"dataframe\">\n",
       "  <thead>\n",
       "    <tr style=\"text-align: right;\">\n",
       "      <th></th>\n",
       "      <th>2015</th>\n",
       "      <th>2016</th>\n",
       "      <th>2017</th>\n",
       "      <th>2018</th>\n",
       "      <th>2019</th>\n",
       "      <th>2020</th>\n",
       "      <th>2021</th>\n",
       "      <th>2022</th>\n",
       "      <th>2023</th>\n",
       "      <th>2024</th>\n",
       "      <th>2025</th>\n",
       "    </tr>\n",
       "  </thead>\n",
       "  <tbody>\n",
       "    <tr>\n",
       "      <th>Inativo</th>\n",
       "      <td>9158</td>\n",
       "      <td>10517.0</td>\n",
       "      <td>11539.0</td>\n",
       "      <td>12636.0</td>\n",
       "      <td>12940.0</td>\n",
       "      <td>13186.0</td>\n",
       "      <td>13386.0</td>\n",
       "      <td>13542.0</td>\n",
       "      <td>13664.0</td>\n",
       "      <td>13759.0</td>\n",
       "      <td>13834.0</td>\n",
       "    </tr>\n",
       "    <tr>\n",
       "      <th>Frio</th>\n",
       "      <td>1903</td>\n",
       "      <td>1584.0</td>\n",
       "      <td>1711.0</td>\n",
       "      <td>874.0</td>\n",
       "      <td>821.0</td>\n",
       "      <td>782.0</td>\n",
       "      <td>740.0</td>\n",
       "      <td>709.0</td>\n",
       "      <td>684.0</td>\n",
       "      <td>665.0</td>\n",
       "      <td>650.0</td>\n",
       "    </tr>\n",
       "    <tr>\n",
       "      <th>Quente - Valor Alto</th>\n",
       "      <td>119</td>\n",
       "      <td>144.0</td>\n",
       "      <td>165.0</td>\n",
       "      <td>160.0</td>\n",
       "      <td>156.0</td>\n",
       "      <td>152.0</td>\n",
       "      <td>149.0</td>\n",
       "      <td>146.0</td>\n",
       "      <td>143.0</td>\n",
       "      <td>141.0</td>\n",
       "      <td>139.0</td>\n",
       "    </tr>\n",
       "    <tr>\n",
       "      <th>Quente - Valor Baixo</th>\n",
       "      <td>901</td>\n",
       "      <td>991.0</td>\n",
       "      <td>1058.0</td>\n",
       "      <td>989.0</td>\n",
       "      <td>938.0</td>\n",
       "      <td>884.0</td>\n",
       "      <td>844.0</td>\n",
       "      <td>813.0</td>\n",
       "      <td>789.0</td>\n",
       "      <td>771.0</td>\n",
       "      <td>756.0</td>\n",
       "    </tr>\n",
       "    <tr>\n",
       "      <th>Novo Quente</th>\n",
       "      <td>938</td>\n",
       "      <td>987.0</td>\n",
       "      <td>0.0</td>\n",
       "      <td>0.0</td>\n",
       "      <td>0.0</td>\n",
       "      <td>0.0</td>\n",
       "      <td>0.0</td>\n",
       "      <td>0.0</td>\n",
       "      <td>0.0</td>\n",
       "      <td>0.0</td>\n",
       "      <td>0.0</td>\n",
       "    </tr>\n",
       "    <tr>\n",
       "      <th>Ativo - Valor Alto</th>\n",
       "      <td>573</td>\n",
       "      <td>657.0</td>\n",
       "      <td>639.0</td>\n",
       "      <td>624.0</td>\n",
       "      <td>607.0</td>\n",
       "      <td>593.0</td>\n",
       "      <td>581.0</td>\n",
       "      <td>571.0</td>\n",
       "      <td>562.0</td>\n",
       "      <td>554.0</td>\n",
       "      <td>547.0</td>\n",
       "    </tr>\n",
       "    <tr>\n",
       "      <th>Ativo - Valor Baixo</th>\n",
       "      <td>3313</td>\n",
       "      <td>3537.0</td>\n",
       "      <td>3305.0</td>\n",
       "      <td>3134.0</td>\n",
       "      <td>2954.0</td>\n",
       "      <td>2820.0</td>\n",
       "      <td>2717.0</td>\n",
       "      <td>2637.0</td>\n",
       "      <td>2575.0</td>\n",
       "      <td>2527.0</td>\n",
       "      <td>2490.0</td>\n",
       "    </tr>\n",
       "    <tr>\n",
       "      <th>Novo Ativo</th>\n",
       "      <td>1512</td>\n",
       "      <td>0.0</td>\n",
       "      <td>0.0</td>\n",
       "      <td>0.0</td>\n",
       "      <td>0.0</td>\n",
       "      <td>0.0</td>\n",
       "      <td>0.0</td>\n",
       "      <td>0.0</td>\n",
       "      <td>0.0</td>\n",
       "      <td>0.0</td>\n",
       "      <td>0.0</td>\n",
       "    </tr>\n",
       "  </tbody>\n",
       "</table>\n",
       "</div>"
      ],
      "text/plain": [
       "                      2015     2016     2017     2018     2019     2020  \\\n",
       "Inativo               9158  10517.0  11539.0  12636.0  12940.0  13186.0   \n",
       "Frio                  1903   1584.0   1711.0    874.0    821.0    782.0   \n",
       "Quente - Valor Alto    119    144.0    165.0    160.0    156.0    152.0   \n",
       "Quente - Valor Baixo   901    991.0   1058.0    989.0    938.0    884.0   \n",
       "Novo Quente            938    987.0      0.0      0.0      0.0      0.0   \n",
       "Ativo - Valor Alto     573    657.0    639.0    624.0    607.0    593.0   \n",
       "Ativo - Valor Baixo   3313   3537.0   3305.0   3134.0   2954.0   2820.0   \n",
       "Novo Ativo            1512      0.0      0.0      0.0      0.0      0.0   \n",
       "\n",
       "                         2021     2022     2023     2024     2025  \n",
       "Inativo               13386.0  13542.0  13664.0  13759.0  13834.0  \n",
       "Frio                    740.0    709.0    684.0    665.0    650.0  \n",
       "Quente - Valor Alto     149.0    146.0    143.0    141.0    139.0  \n",
       "Quente - Valor Baixo    844.0    813.0    789.0    771.0    756.0  \n",
       "Novo Quente               0.0      0.0      0.0      0.0      0.0  \n",
       "Ativo - Valor Alto      581.0    571.0    562.0    554.0    547.0  \n",
       "Ativo - Valor Baixo    2717.0   2637.0   2575.0   2527.0   2490.0  \n",
       "Novo Ativo                0.0      0.0      0.0      0.0      0.0  "
      ]
     },
     "execution_count": 58,
     "metadata": {},
     "output_type": "execute_result"
    }
   ],
   "source": [
    "# calculando multiplicacao de matrizes\n",
    "\n",
    "for i in range(1,11):\n",
    "    df_segmentos[df_segmentos.columns[i]] = df_segmentos [  df_segmentos.columns[i-1]].dot(df_transition.values)\n",
    "\n",
    "df_segmentos.round()\n"
   ]
  },
  {
   "cell_type": "code",
   "execution_count": 29,
   "metadata": {},
   "outputs": [
    {
     "data": {
      "image/png": "[encoded data removed]",
      "text/plain": [
       "<matplotlib.figure.Figure at 0x21f06168780>"
      ]
     },
     "metadata": {},
     "output_type": "display_data"
    }
   ],
   "source": [
    "# plotar projeção até 2025 para cada segmento\n",
    "\n",
    "i = 1\n",
    "f = plt.figure(figsize=(20,10))\n",
    "for idx in df_segmentos.index.tolist():\n",
    "    plt.subplot(4,2,i)\n",
    "    df_segmentos.loc[idx].plot.bar(title=idx)\n",
    "    i += 1\n",
    "\n",
    "\n",
    "plt.subplots_adjust(hspace=0.5)\n",
    "plt.show()"
   ]
  },
  {
   "cell_type": "markdown",
   "metadata": {},
   "source": [
    "### Faturamento anual por segmento"
   ]
  },
  {
   "cell_type": "code",
   "execution_count": 59,
   "metadata": {},
   "outputs": [
    {
     "data": {
      "text/plain": [
       "array([     0.  ,      0.  ,      0.  ,      0.  ,      0.  , 185405.  ,\n",
       "       173289.92, 119699.21])"
      ]
     },
     "execution_count": 59,
     "metadata": {},
     "output_type": "execute_result"
    }
   ],
   "source": [
    "# extraindo faturamento em 2015\n",
    "df_faturamento_2015 = df_raw[df_raw.ano_compra == 2015].groupby(\"cliente_id\")[[\"valor_compra\"]].sum()\n",
    "df_faturamento_2015.columns = [\"faturamento_2015\"]\n",
    "\n",
    "df_cliente_2015 = df_cliente_2015.merge(df_faturamento_2015, right_index=True, left_index=True, how=\"outer\")\n",
    "\n",
    "# Faturamento anual por segmento\n",
    "yearly_revenue = df_cliente_2015.groupby([\"segmento\"])[\"faturamento_2015\"].sum().values\n",
    "yearly_revenue"
   ]
  },
  {
   "cell_type": "code",
   "execution_count": 60,
   "metadata": {},
   "outputs": [
    {
     "data": {
      "text/plain": [
       "<matplotlib.axes._subplots.AxesSubplot at 0x21f031d2ba8>"
      ]
     },
     "execution_count": 60,
     "metadata": {},
     "output_type": "execute_result"
    },
    {
     "data": {
      "image/png": "[encoded data removed]",
      "text/plain": [
       "<matplotlib.figure.Figure at 0x21f031ef940>"
      ]
     },
     "metadata": {},
     "output_type": "display_data"
    }
   ],
   "source": [
    "# Segmentos que deve ser tratados com mais atenção\n",
    "# Quais os principais segmentos de clientes?\n",
    "df_cliente_2015.groupby([\"segmento\"])[\"faturamento_2015\"].sum().sort_values(ascending=False).plot.bar()"
   ]
  },
  {
   "cell_type": "code",
   "execution_count": 61,
   "metadata": {},
   "outputs": [
    {
     "data": {
      "text/html": [
       "<div>\n",
       "<style scoped>\n",
       "    .dataframe tbody tr th:only-of-type {\n",
       "        vertical-align: middle;\n",
       "    }\n",
       "\n",
       "    .dataframe tbody tr th {\n",
       "        vertical-align: top;\n",
       "    }\n",
       "\n",
       "    .dataframe thead th {\n",
       "        text-align: right;\n",
       "    }\n",
       "</style>\n",
       "<table border=\"1\" class=\"dataframe\">\n",
       "  <thead>\n",
       "    <tr style=\"text-align: right;\">\n",
       "      <th></th>\n",
       "      <th>2015</th>\n",
       "      <th>2016</th>\n",
       "      <th>2017</th>\n",
       "      <th>2018</th>\n",
       "      <th>2019</th>\n",
       "      <th>2020</th>\n",
       "      <th>2021</th>\n",
       "      <th>2022</th>\n",
       "      <th>2023</th>\n",
       "      <th>2024</th>\n",
       "      <th>2025</th>\n",
       "    </tr>\n",
       "  </thead>\n",
       "  <tbody>\n",
       "    <tr>\n",
       "      <th>Inativo</th>\n",
       "      <td>0.0</td>\n",
       "      <td>0.0</td>\n",
       "      <td>0.0</td>\n",
       "      <td>0.0</td>\n",
       "      <td>0.0</td>\n",
       "      <td>0.0</td>\n",
       "      <td>0.0</td>\n",
       "      <td>0.0</td>\n",
       "      <td>0.0</td>\n",
       "      <td>0.0</td>\n",
       "      <td>0.0</td>\n",
       "    </tr>\n",
       "    <tr>\n",
       "      <th>Frio</th>\n",
       "      <td>0.0</td>\n",
       "      <td>0.0</td>\n",
       "      <td>0.0</td>\n",
       "      <td>0.0</td>\n",
       "      <td>0.0</td>\n",
       "      <td>0.0</td>\n",
       "      <td>0.0</td>\n",
       "      <td>0.0</td>\n",
       "      <td>0.0</td>\n",
       "      <td>0.0</td>\n",
       "      <td>0.0</td>\n",
       "    </tr>\n",
       "    <tr>\n",
       "      <th>Quente - Valor Alto</th>\n",
       "      <td>0.0</td>\n",
       "      <td>0.0</td>\n",
       "      <td>0.0</td>\n",
       "      <td>0.0</td>\n",
       "      <td>0.0</td>\n",
       "      <td>0.0</td>\n",
       "      <td>0.0</td>\n",
       "      <td>0.0</td>\n",
       "      <td>0.0</td>\n",
       "      <td>0.0</td>\n",
       "      <td>0.0</td>\n",
       "    </tr>\n",
       "    <tr>\n",
       "      <th>Quente - Valor Baixo</th>\n",
       "      <td>0.0</td>\n",
       "      <td>0.0</td>\n",
       "      <td>0.0</td>\n",
       "      <td>0.0</td>\n",
       "      <td>0.0</td>\n",
       "      <td>0.0</td>\n",
       "      <td>0.0</td>\n",
       "      <td>0.0</td>\n",
       "      <td>0.0</td>\n",
       "      <td>0.0</td>\n",
       "      <td>0.0</td>\n",
       "    </tr>\n",
       "    <tr>\n",
       "      <th>Novo Quente</th>\n",
       "      <td>0.0</td>\n",
       "      <td>0.0</td>\n",
       "      <td>0.0</td>\n",
       "      <td>0.0</td>\n",
       "      <td>0.0</td>\n",
       "      <td>0.0</td>\n",
       "      <td>0.0</td>\n",
       "      <td>0.0</td>\n",
       "      <td>0.0</td>\n",
       "      <td>0.0</td>\n",
       "      <td>0.0</td>\n",
       "    </tr>\n",
       "    <tr>\n",
       "      <th>Ativo - Valor Alto</th>\n",
       "      <td>106237065.0</td>\n",
       "      <td>121759716.0</td>\n",
       "      <td>118401353.0</td>\n",
       "      <td>115750854.0</td>\n",
       "      <td>112626007.0</td>\n",
       "      <td>109997135.0</td>\n",
       "      <td>107736692.0</td>\n",
       "      <td>105791237.0</td>\n",
       "      <td>104123716.0</td>\n",
       "      <td>102697908.0</td>\n",
       "      <td>101481465.0</td>\n",
       "    </tr>\n",
       "    <tr>\n",
       "      <th>Ativo - Valor Baixo</th>\n",
       "      <td>574109505.0</td>\n",
       "      <td>612856824.0</td>\n",
       "      <td>572789525.0</td>\n",
       "      <td>543043107.0</td>\n",
       "      <td>511913554.0</td>\n",
       "      <td>488735238.0</td>\n",
       "      <td>470833348.0</td>\n",
       "      <td>456962588.0</td>\n",
       "      <td>446236110.0</td>\n",
       "      <td>437942872.0</td>\n",
       "      <td>431533135.0</td>\n",
       "    </tr>\n",
       "    <tr>\n",
       "      <th>Novo Ativo</th>\n",
       "      <td>180985206.0</td>\n",
       "      <td>0.0</td>\n",
       "      <td>0.0</td>\n",
       "      <td>0.0</td>\n",
       "      <td>0.0</td>\n",
       "      <td>0.0</td>\n",
       "      <td>0.0</td>\n",
       "      <td>0.0</td>\n",
       "      <td>0.0</td>\n",
       "      <td>0.0</td>\n",
       "      <td>0.0</td>\n",
       "    </tr>\n",
       "  </tbody>\n",
       "</table>\n",
       "</div>"
      ],
      "text/plain": [
       "                             2015         2016         2017         2018  \\\n",
       "Inativo                       0.0          0.0          0.0          0.0   \n",
       "Frio                          0.0          0.0          0.0          0.0   \n",
       "Quente - Valor Alto           0.0          0.0          0.0          0.0   \n",
       "Quente - Valor Baixo          0.0          0.0          0.0          0.0   \n",
       "Novo Quente                   0.0          0.0          0.0          0.0   \n",
       "Ativo - Valor Alto    106237065.0  121759716.0  118401353.0  115750854.0   \n",
       "Ativo - Valor Baixo   574109505.0  612856824.0  572789525.0  543043107.0   \n",
       "Novo Ativo            180985206.0          0.0          0.0          0.0   \n",
       "\n",
       "                             2019         2020         2021         2022  \\\n",
       "Inativo                       0.0          0.0          0.0          0.0   \n",
       "Frio                          0.0          0.0          0.0          0.0   \n",
       "Quente - Valor Alto           0.0          0.0          0.0          0.0   \n",
       "Quente - Valor Baixo          0.0          0.0          0.0          0.0   \n",
       "Novo Quente                   0.0          0.0          0.0          0.0   \n",
       "Ativo - Valor Alto    112626007.0  109997135.0  107736692.0  105791237.0   \n",
       "Ativo - Valor Baixo   511913554.0  488735238.0  470833348.0  456962588.0   \n",
       "Novo Ativo                    0.0          0.0          0.0          0.0   \n",
       "\n",
       "                             2023         2024         2025  \n",
       "Inativo                       0.0          0.0          0.0  \n",
       "Frio                          0.0          0.0          0.0  \n",
       "Quente - Valor Alto           0.0          0.0          0.0  \n",
       "Quente - Valor Baixo          0.0          0.0          0.0  \n",
       "Novo Quente                   0.0          0.0          0.0  \n",
       "Ativo - Valor Alto    104123716.0  102697908.0  101481465.0  \n",
       "Ativo - Valor Baixo   446236110.0  437942872.0  431533135.0  \n",
       "Novo Ativo                    0.0          0.0          0.0  "
      ]
     },
     "execution_count": 61,
     "metadata": {},
     "output_type": "execute_result"
    }
   ],
   "source": [
    "# Computando o faturamento por segmento\n",
    "revenue_per_segment = df_segmentos.apply(lambda col: col * yearly_revenue).round()\n",
    "revenue_per_segment"
   ]
  },
  {
   "cell_type": "markdown",
   "metadata": {},
   "source": [
    "### Previsão de faturamento"
   ]
  },
  {
   "cell_type": "code",
   "execution_count": 62,
   "metadata": {},
   "outputs": [
    {
     "data": {
      "text/plain": [
       "2015    861331776.0\n",
       "2016    734616540.0\n",
       "2017    691190878.0\n",
       "2018    658793961.0\n",
       "2019    624539561.0\n",
       "2020    598732373.0\n",
       "2021    578570040.0\n",
       "2022    562753825.0\n",
       "2023    550359826.0\n",
       "2024    540640780.0\n",
       "2025    533014600.0\n",
       "dtype: float64"
      ]
     },
     "metadata": {},
     "output_type": "display_data"
    },
    {
     "data": {
      "text/plain": [
       "<matplotlib.axes._subplots.AxesSubplot at 0x21f0316e828>"
      ]
     },
     "execution_count": 62,
     "metadata": {},
     "output_type": "execute_result"
    },
    {
     "data": {
      "image/png": "[encoded data removed]",
      "text/plain": [
       "<matplotlib.figure.Figure at 0x21f0322f828>"
      ]
     },
     "metadata": {},
     "output_type": "display_data"
    }
   ],
   "source": [
    "# Faturamento anual\n",
    "yearly_revenue = revenue_per_segment.sum()\n",
    "display(yearly_revenue.round())\n",
    "yearly_revenue.plot.bar()"
   ]
  },
  {
   "cell_type": "code",
   "execution_count": 63,
   "metadata": {},
   "outputs": [
    {
     "data": {
      "text/plain": [
       "2015    8.613318e+08\n",
       "2016    1.595948e+09\n",
       "2017    2.287139e+09\n",
       "2018    2.945933e+09\n",
       "2019    3.570473e+09\n",
       "2020    4.169205e+09\n",
       "2021    4.747775e+09\n",
       "2022    5.310529e+09\n",
       "2023    5.860889e+09\n",
       "2024    6.401530e+09\n",
       "2025    6.934544e+09\n",
       "dtype: float64"
      ]
     },
     "metadata": {},
     "output_type": "display_data"
    },
    {
     "data": {
      "text/plain": [
       "<matplotlib.axes._subplots.AxesSubplot at 0x21f0327e3c8>"
      ]
     },
     "execution_count": 63,
     "metadata": {},
     "output_type": "execute_result"
    },
    {
     "data": {
      "image/png": "[encoded data removed]",
      "text/plain": [
       "<matplotlib.figure.Figure at 0x21f0321cdd8>"
      ]
     },
     "metadata": {},
     "output_type": "display_data"
    }
   ],
   "source": [
    "# Faturamento acumulado\n",
    "cumulated_revenue = yearly_revenue.cumsum()\n",
    "display(cumulated_revenue.round())\n",
    "cumulated_revenue.plot.bar()"
   ]
  },
  {
   "cell_type": "code",
   "execution_count": 64,
   "metadata": {},
   "outputs": [
    {
     "data": {
      "text/plain": [
       "[1.0,\n",
       " 0.9090909090909091,\n",
       " 0.8264462809917354,\n",
       " 0.7513148009015775,\n",
       " 0.6830134553650705,\n",
       " 0.6209213230591549,\n",
       " 0.5644739300537772,\n",
       " 0.5131581182307065,\n",
       " 0.4665073802097331,\n",
       " 0.42409761837248455,\n",
       " 0.3855432894295314]"
      ]
     },
     "execution_count": 64,
     "metadata": {},
     "output_type": "execute_result"
    }
   ],
   "source": [
    "# Criando um fator de desconto\n",
    "\n",
    "discount_rate = 0.10\n",
    "discount = [1 / ((1 + discount_rate) ** i)    for i in range(11)]\n",
    "discount"
   ]
  },
  {
   "cell_type": "code",
   "execution_count": 65,
   "metadata": {},
   "outputs": [
    {
     "data": {
      "text/plain": [
       "2015    861331776.0\n",
       "2016    667833218.0\n",
       "2017    571232131.0\n",
       "2018    494961654.0\n",
       "2019    426568924.0\n",
       "2020    371765697.0\n",
       "2021    326587704.0\n",
       "2022    288781694.0\n",
       "2023    256746921.0\n",
       "2024    229284467.0\n",
       "2025    205500202.0\n",
       "dtype: float64"
      ]
     },
     "metadata": {},
     "output_type": "display_data"
    },
    {
     "data": {
      "text/plain": [
       "<matplotlib.axes._subplots.AxesSubplot at 0x21f030ed6a0>"
      ]
     },
     "execution_count": 65,
     "metadata": {},
     "output_type": "execute_result"
    },
    {
     "data": {
      "image/png": "[encoded data removed]",
      "text/plain": [
       "<matplotlib.figure.Figure at 0x21f030c3c50>"
      ]
     },
     "metadata": {},
     "output_type": "display_data"
    }
   ],
   "source": [
    "# Faturamento anual com fator de desconto\n",
    "\n",
    "disc_yearly_revenue = yearly_revenue * discount\n",
    "display(disc_yearly_revenue.round())\n",
    "\n",
    "disc_yearly_revenue.plot.bar()\n",
    "yearly_revenue.plot.line()"
   ]
  },
  {
   "cell_type": "code",
   "execution_count": 66,
   "metadata": {},
   "outputs": [
    {
     "data": {
      "text/plain": [
       "2015    8.613318e+08\n",
       "2016    1.529165e+09\n",
       "2017    2.100397e+09\n",
       "2018    2.595359e+09\n",
       "2019    3.021928e+09\n",
       "2020    3.393693e+09\n",
       "2021    3.720281e+09\n",
       "2022    4.009063e+09\n",
       "2023    4.265810e+09\n",
       "2024    4.495094e+09\n",
       "2025    4.700594e+09\n",
       "dtype: float64"
      ]
     },
     "metadata": {},
     "output_type": "display_data"
    },
    {
     "data": {
      "text/plain": [
       "<matplotlib.axes._subplots.AxesSubplot at 0x21f030c34a8>"
      ]
     },
     "execution_count": 66,
     "metadata": {},
     "output_type": "execute_result"
    },
    {
     "data": {
      "image/png": "[encoded data removed]",
      "text/plain": [
       "<matplotlib.figure.Figure at 0x21f032ba8d0>"
      ]
     },
     "metadata": {},
     "output_type": "display_data"
    }
   ],
   "source": [
    "# Faturamento acumulado com fator de desconto\n",
    "disc_cumulated_revenue = disc_yearly_revenue.cumsum()\n",
    "display(disc_cumulated_revenue.round())\n",
    "disc_cumulated_revenue.plot.bar()"
   ]
  },
  {
   "cell_type": "markdown",
   "metadata": {},
   "source": [
    "### Quanto vale nossa base de clientes em 2025?"
   ]
  },
  {
   "cell_type": "code",
   "execution_count": 67,
   "metadata": {},
   "outputs": [
    {
     "data": {
      "text/plain": [
       "3839262611.321765"
      ]
     },
     "execution_count": 67,
     "metadata": {},
     "output_type": "execute_result"
    }
   ],
   "source": [
    "disc_cumulated_revenue[-1] - yearly_revenue[0]"
   ]
  },
  {
   "cell_type": "markdown",
   "metadata": {},
   "source": [
    "### Quais clientes serão mais rentáveis? Faturamento > 500"
   ]
  },
  {
   "cell_type": "code",
   "execution_count": null,
   "metadata": {},
   "outputs": [],
   "source": []
  }
 ],
 "metadata": {
  "kernelspec": {
   "display_name": "Python 3",
   "language": "python",
   "name": "python3"
  },
  "language_info": {
   "codemirror_mode": {
    "name": "ipython",
    "version": 3
   },
   "file_extension": ".py",
   "mimetype": "text/x-python",
   "name": "python",
   "nbconvert_exporter": "python",
   "pygments_lexer": "ipython3",
   "version": "3.6.4"
  }
 },
 "nbformat": 4,
 "nbformat_minor": 2
}
